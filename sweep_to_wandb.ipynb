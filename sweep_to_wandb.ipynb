{
 "cells": [
  {
   "cell_type": "code",
   "execution_count": 1,
   "metadata": {},
   "outputs": [],
   "source": [
    "import wandb\n",
    "\n",
    "import numpy as np\n",
    "import matplotlib.pyplot as plt\n",
    "from keras.datasets import fashion_mnist\n",
    "\n",
    "\n",
    "(trainIn, trainOut), (testIn, testOut) = fashion_mnist.load_data()\n",
    "\n",
    "N_train_full = trainOut.shape[0]\n",
    "N_train = int(0.9*N_train_full)\n",
    "N_validation = int(0.1 * trainOut.shape[0])\n",
    "N_test = testOut.shape[0]\n",
    "\n",
    "\n",
    "idx  = np.random.choice(trainOut.shape[0], N_train_full, replace=False)\n",
    "idx2 = np.random.choice(testOut.shape[0], N_test, replace=False)\n",
    "\n",
    "trainInFull = trainIn[idx, :]\n",
    "trainOutFull = trainOut[idx]\n",
    "\n",
    "trainIn = trainInFull[:N_train,:]\n",
    "trainOut = trainOutFull[:N_train]\n",
    "\n",
    "validIn = trainInFull[N_train:, :]\n",
    "validOut = trainOutFull[N_train:]    \n",
    "\n",
    "testIn = testIn[idx2, :]\n",
    "testOut = testOut[idx2]"
   ]
  },
  {
   "cell_type": "code",
   "execution_count": 2,
   "metadata": {},
   "outputs": [],
   "source": [
    "sweep_config = {\n",
    "  \"name\": \"Bayesian Sweep\",\n",
    "  \"method\": \"bayes\",\n",
    "  \"metric\":{\n",
    "  \"name\": \"validationaccuracy\",\n",
    "  \"goal\": \"maximize\"\n",
    "  },\n",
    "  \"parameters\": {\n",
    "        \"max_epochs\": {\"values\": [5, 10]},\n",
    "\n",
    "        \"hidden_layers\": {\"values\": [3, 4, 5]},\n",
    "        \n",
    "        \"no_of_hidden_neurons\": {\"values\": [32, 64, 128]},\n",
    "        \n",
    "        \"weight_decay\": {\"values\": [0, 0.0005,0.5]},\n",
    "        \n",
    "        \"learning_rate\": {\"values\": [0.001, 0.0001]},\n",
    "        \n",
    "        \"optimizer\": {\"values\": [\"SGD\", \"MGD\", \"NAG\", \"RMSPROP\", \"ADAM\",\"NADAM\"]},\n",
    "                    \n",
    "        \"batch_size\": {\"values\": [16, 32, 64]},\n",
    "\n",
    "        \"initializer\": {\"values\": [\"RANDOM\", \"XAVIER\"]},\n",
    "        \n",
    "        \"activation\": {\"values\": [ 'tanh',  'sigmoid', 'ReLU']}\n",
    "        }\n",
    "    }"
   ]
  },
  {
   "cell_type": "code",
   "execution_count": 5,
   "metadata": {},
   "outputs": [
    {
     "name": "stderr",
     "output_type": "stream",
     "text": [
      "\u001b[34m\u001b[1mwandb\u001b[0m: Using wandb-core as the SDK backend.  Please refer to https://wandb.me/wandb-core for more information.\n"
     ]
    },
    {
     "name": "stdout",
     "output_type": "stream",
     "text": [
      "Create sweep with ID: mfnwfsvf\n",
      "Sweep URL: https://wandb.ai/ma23c011-indian-institute-of-technology-madras/fashion-mnist-visualization/sweeps/mfnwfsvf\n"
     ]
    }
   ],
   "source": [
    "sweep_id = wandb.sweep(sweep_config,project='fashion-mnist-visualization')\n"
   ]
  },
  {
   "cell_type": "code",
   "execution_count": 3,
   "metadata": {},
   "outputs": [],
   "source": [
    "from neural_network import NeuralNetwork\n",
    "def train():    \n",
    "    config_defaults = dict(\n",
    "            max_epochs=5,\n",
    "            hidden_layers=3,\n",
    "            no_of_hidden_neurons=32,\n",
    "            weight_decay=0,\n",
    "            learning_rate=1e-3,\n",
    "            optimizer=\"NADAM\",\n",
    "            batch_size=32,\n",
    "            activation=\"tanh\",\n",
    "            initializer=\"XAVIER\",\n",
    "            loss=\"CROSS\",\n",
    "        )\n",
    "        \n",
    "    wandb.init(config = config_defaults)\n",
    "\n",
    "\n",
    "    wandb.run.name = \"hl_\" + str(wandb.config.hidden_layers) + \"_hn_\" + str(wandb.config.no_of_hidden_neurons) + \"_opt_\" + wandb.config.optimizer + \"_act_\" + wandb.config.activation + \"_lr_\" + str(wandb.config.learning_rate) + \"_bs_\"+str(wandb.config.batch_size) + \"_init_\" + wandb.config.initializer + \"_ep_\"+ str(wandb.config.max_epochs)+ \"_l2_\" + str(wandb.config.weight_decay) \n",
    "    CONFIG = wandb.config\n",
    "    \n",
    "    FFNN = NeuralNetwork(\n",
    "        hidden_layers=CONFIG.hidden_layers,\n",
    "        no_of_hidden_neurons=CONFIG.no_of_hidden_neurons,\n",
    "        train_In=trainIn,\n",
    "        train_out=trainOut,\n",
    "        N_train = N_train,\n",
    "        X_val_In = validIn,\n",
    "        val_out = validOut,\n",
    "        N_val = N_validation,\n",
    "        test_In = testIn,\n",
    "        test_out = testOut,\n",
    "        N_test = N_test,\n",
    "        optimizer = CONFIG.optimizer,\n",
    "        batch_size = CONFIG.batch_size,\n",
    "        weight_decay = CONFIG.weight_decay,\n",
    "        learning_rate = CONFIG.learning_rate,\n",
    "        max_epochs = CONFIG.max_epochs,\n",
    "        activation = CONFIG.activation,\n",
    "        initializer = CONFIG.initializer,\n",
    "        loss = CONFIG.loss\n",
    "        )\n",
    "\n",
    "\n",
    "    training_loss, training_accuracy, validation_loss, validation_accuracy, Y_pred = FFNN.optimizer(FFNN.max_epochs, FFNN.N_train, FFNN.batch_size, FFNN.learning_rate)\n",
    " "
   ]
  },
  {
   "cell_type": "code",
   "execution_count": 18,
   "metadata": {},
   "outputs": [
    {
     "name": "stderr",
     "output_type": "stream",
     "text": [
      "\u001b[34m\u001b[1mwandb\u001b[0m: Agent Starting Run: n3ap4l79 with config:\n",
      "\u001b[34m\u001b[1mwandb\u001b[0m: \tactivation: ReLU\n",
      "\u001b[34m\u001b[1mwandb\u001b[0m: \tbatch_size: 64\n",
      "\u001b[34m\u001b[1mwandb\u001b[0m: \tinitializer: XAVIER\n",
      "\u001b[34m\u001b[1mwandb\u001b[0m: \tlearning_rate: 0.001\n",
      "\u001b[34m\u001b[1mwandb\u001b[0m: \tmax_epochs: 5\n",
      "\u001b[34m\u001b[1mwandb\u001b[0m: \tnum_hidden_neurons: 32\n",
      "\u001b[34m\u001b[1mwandb\u001b[0m: \tnum_layers: 3\n",
      "\u001b[34m\u001b[1mwandb\u001b[0m: \toptimizer: MGD\n",
      "\u001b[34m\u001b[1mwandb\u001b[0m: \tweight_decay: 0.5\n"
     ]
    },
    {
     "data": {
      "text/html": [
       "Tracking run with wandb version 0.19.7.dev1"
      ],
      "text/plain": [
       "<IPython.core.display.HTML object>"
      ]
     },
     "metadata": {},
     "output_type": "display_data"
    },
    {
     "data": {
      "text/html": [
       "Run data is saved locally in <code>c:\\Users\\himan\\Documents\\GitHub\\DA-6401_Assignments\\wandb\\run-20250310_003444-n3ap4l79</code>"
      ],
      "text/plain": [
       "<IPython.core.display.HTML object>"
      ]
     },
     "metadata": {},
     "output_type": "display_data"
    },
    {
     "data": {
      "text/html": [
       "Syncing run <strong><a href='https://wandb.ai/ma23c011-indian-institute-of-technology-madras/fashion-mnist-visualization/runs/n3ap4l79' target=\"_blank\">effortless-sweep-1</a></strong> to <a href='https://wandb.ai/ma23c011-indian-institute-of-technology-madras/fashion-mnist-visualization' target=\"_blank\">Weights & Biases</a> (<a href='https://wandb.me/developer-guide' target=\"_blank\">docs</a>)<br>Sweep page: <a href='https://wandb.ai/ma23c011-indian-institute-of-technology-madras/fashion-mnist-visualization/sweeps/kzcicogx' target=\"_blank\">https://wandb.ai/ma23c011-indian-institute-of-technology-madras/fashion-mnist-visualization/sweeps/kzcicogx</a>"
      ],
      "text/plain": [
       "<IPython.core.display.HTML object>"
      ]
     },
     "metadata": {},
     "output_type": "display_data"
    },
    {
     "data": {
      "text/html": [
       " View project at <a href='https://wandb.ai/ma23c011-indian-institute-of-technology-madras/fashion-mnist-visualization' target=\"_blank\">https://wandb.ai/ma23c011-indian-institute-of-technology-madras/fashion-mnist-visualization</a>"
      ],
      "text/plain": [
       "<IPython.core.display.HTML object>"
      ]
     },
     "metadata": {},
     "output_type": "display_data"
    },
    {
     "data": {
      "text/html": [
       " View sweep at <a href='https://wandb.ai/ma23c011-indian-institute-of-technology-madras/fashion-mnist-visualization/sweeps/kzcicogx' target=\"_blank\">https://wandb.ai/ma23c011-indian-institute-of-technology-madras/fashion-mnist-visualization/sweeps/kzcicogx</a>"
      ],
      "text/plain": [
       "<IPython.core.display.HTML object>"
      ]
     },
     "metadata": {},
     "output_type": "display_data"
    },
    {
     "data": {
      "text/html": [
       " View run at <a href='https://wandb.ai/ma23c011-indian-institute-of-technology-madras/fashion-mnist-visualization/runs/n3ap4l79' target=\"_blank\">https://wandb.ai/ma23c011-indian-institute-of-technology-madras/fashion-mnist-visualization/runs/n3ap4l79</a>"
      ],
      "text/plain": [
       "<IPython.core.display.HTML object>"
      ]
     },
     "metadata": {},
     "output_type": "display_data"
    },
    {
     "name": "stdout",
     "output_type": "stream",
     "text": [
      "Epoch: 0, Loss: 1.137e-01, Training accuracy:0.755, Validation Accuracy: 0.748, Time: 21.384, Learning Rate: 1.000e-03\n",
      "Epoch: 1, Loss: 6.240e-02, Training accuracy:0.804, Validation Accuracy: 0.802, Time: 23.699, Learning Rate: 1.000e-03\n",
      "Epoch: 2, Loss: 5.411e-02, Training accuracy:0.823, Validation Accuracy: 0.821, Time: 25.473, Learning Rate: 1.000e-03\n",
      "Epoch: 3, Loss: 5.014e-02, Training accuracy:0.833, Validation Accuracy: 0.830, Time: 28.736, Learning Rate: 1.000e-03\n",
      "Epoch: 4, Loss: 4.764e-02, Training accuracy:0.839, Validation Accuracy: 0.838, Time: 25.685, Learning Rate: 1.000e-03\n"
     ]
    },
    {
     "data": {
      "text/html": [],
      "text/plain": [
       "<IPython.core.display.HTML object>"
      ]
     },
     "metadata": {},
     "output_type": "display_data"
    },
    {
     "data": {
      "text/html": [
       "<br>    <style><br>        .wandb-row {<br>            display: flex;<br>            flex-direction: row;<br>            flex-wrap: wrap;<br>            justify-content: flex-start;<br>            width: 100%;<br>        }<br>        .wandb-col {<br>            display: flex;<br>            flex-direction: column;<br>            flex-basis: 100%;<br>            flex: 1;<br>            padding: 10px;<br>        }<br>    </style><br><div class=\"wandb-row\"><div class=\"wandb-col\"><h3>Run history:</h3><br/><table class=\"wandb\"><tr><td>epoch</td><td>▁▃▅▆█</td></tr><tr><td>loss</td><td>█▃▂▁▁</td></tr><tr><td>training_accuracy</td><td>▁▅▇▇█</td></tr><tr><td>validation_accuracy</td><td>▁▅▇▇█</td></tr></table><br/></div><div class=\"wandb-col\"><h3>Run summary:</h3><br/><table class=\"wandb\"><tr><td>epoch</td><td>4</td></tr><tr><td>loss</td><td>0.04764</td></tr><tr><td>training_accuracy</td><td>0.83935</td></tr><tr><td>validation_accuracy</td><td>0.838</td></tr></table><br/></div></div>"
      ],
      "text/plain": [
       "<IPython.core.display.HTML object>"
      ]
     },
     "metadata": {},
     "output_type": "display_data"
    },
    {
     "data": {
      "text/html": [
       " View run <strong style=\"color:#cdcd00\">hl_3_hn_32_opt_MGD_act_ReLU_lr_0.001_bs_64_init_XAVIER_ep_5_l2_0.5</strong> at: <a href='https://wandb.ai/ma23c011-indian-institute-of-technology-madras/fashion-mnist-visualization/runs/n3ap4l79' target=\"_blank\">https://wandb.ai/ma23c011-indian-institute-of-technology-madras/fashion-mnist-visualization/runs/n3ap4l79</a><br> View project at: <a href='https://wandb.ai/ma23c011-indian-institute-of-technology-madras/fashion-mnist-visualization' target=\"_blank\">https://wandb.ai/ma23c011-indian-institute-of-technology-madras/fashion-mnist-visualization</a><br>Synced 5 W&B file(s), 0 media file(s), 0 artifact file(s) and 0 other file(s)"
      ],
      "text/plain": [
       "<IPython.core.display.HTML object>"
      ]
     },
     "metadata": {},
     "output_type": "display_data"
    },
    {
     "data": {
      "text/html": [
       "Find logs at: <code>.\\wandb\\run-20250310_003444-n3ap4l79\\logs</code>"
      ],
      "text/plain": [
       "<IPython.core.display.HTML object>"
      ]
     },
     "metadata": {},
     "output_type": "display_data"
    }
   ],
   "source": [
    "wandb.agent(sweep_id, train, count = 1)"
   ]
  },
  {
   "cell_type": "code",
   "execution_count": 19,
   "metadata": {},
   "outputs": [
    {
     "name": "stderr",
     "output_type": "stream",
     "text": [
      "\u001b[34m\u001b[1mwandb\u001b[0m: Agent Starting Run: yke4gnku with config:\n",
      "\u001b[34m\u001b[1mwandb\u001b[0m: \tactivation: sigmoid\n",
      "\u001b[34m\u001b[1mwandb\u001b[0m: \tbatch_size: 16\n",
      "\u001b[34m\u001b[1mwandb\u001b[0m: \tinitializer: XAVIER\n",
      "\u001b[34m\u001b[1mwandb\u001b[0m: \tlearning_rate: 0.001\n",
      "\u001b[34m\u001b[1mwandb\u001b[0m: \tmax_epochs: 10\n",
      "\u001b[34m\u001b[1mwandb\u001b[0m: \tnum_hidden_neurons: 64\n",
      "\u001b[34m\u001b[1mwandb\u001b[0m: \tnum_layers: 5\n",
      "\u001b[34m\u001b[1mwandb\u001b[0m: \toptimizer: NADAM\n",
      "\u001b[34m\u001b[1mwandb\u001b[0m: \tweight_decay: 0\n"
     ]
    },
    {
     "data": {
      "text/html": [
       "Tracking run with wandb version 0.19.7.dev1"
      ],
      "text/plain": [
       "<IPython.core.display.HTML object>"
      ]
     },
     "metadata": {},
     "output_type": "display_data"
    },
    {
     "data": {
      "text/html": [
       "Run data is saved locally in <code>c:\\Users\\himan\\Documents\\GitHub\\DA-6401_Assignments\\wandb\\run-20250310_004648-yke4gnku</code>"
      ],
      "text/plain": [
       "<IPython.core.display.HTML object>"
      ]
     },
     "metadata": {},
     "output_type": "display_data"
    },
    {
     "data": {
      "text/html": [
       "Syncing run <strong><a href='https://wandb.ai/ma23c011-indian-institute-of-technology-madras/fashion-mnist-visualization/runs/yke4gnku' target=\"_blank\">astral-sweep-2</a></strong> to <a href='https://wandb.ai/ma23c011-indian-institute-of-technology-madras/fashion-mnist-visualization' target=\"_blank\">Weights & Biases</a> (<a href='https://wandb.me/developer-guide' target=\"_blank\">docs</a>)<br>Sweep page: <a href='https://wandb.ai/ma23c011-indian-institute-of-technology-madras/fashion-mnist-visualization/sweeps/kzcicogx' target=\"_blank\">https://wandb.ai/ma23c011-indian-institute-of-technology-madras/fashion-mnist-visualization/sweeps/kzcicogx</a>"
      ],
      "text/plain": [
       "<IPython.core.display.HTML object>"
      ]
     },
     "metadata": {},
     "output_type": "display_data"
    },
    {
     "data": {
      "text/html": [
       " View project at <a href='https://wandb.ai/ma23c011-indian-institute-of-technology-madras/fashion-mnist-visualization' target=\"_blank\">https://wandb.ai/ma23c011-indian-institute-of-technology-madras/fashion-mnist-visualization</a>"
      ],
      "text/plain": [
       "<IPython.core.display.HTML object>"
      ]
     },
     "metadata": {},
     "output_type": "display_data"
    },
    {
     "data": {
      "text/html": [
       " View sweep at <a href='https://wandb.ai/ma23c011-indian-institute-of-technology-madras/fashion-mnist-visualization/sweeps/kzcicogx' target=\"_blank\">https://wandb.ai/ma23c011-indian-institute-of-technology-madras/fashion-mnist-visualization/sweeps/kzcicogx</a>"
      ],
      "text/plain": [
       "<IPython.core.display.HTML object>"
      ]
     },
     "metadata": {},
     "output_type": "display_data"
    },
    {
     "data": {
      "text/html": [
       " View run at <a href='https://wandb.ai/ma23c011-indian-institute-of-technology-madras/fashion-mnist-visualization/runs/yke4gnku' target=\"_blank\">https://wandb.ai/ma23c011-indian-institute-of-technology-madras/fashion-mnist-visualization/runs/yke4gnku</a>"
      ],
      "text/plain": [
       "<IPython.core.display.HTML object>"
      ]
     },
     "metadata": {},
     "output_type": "display_data"
    },
    {
     "name": "stdout",
     "output_type": "stream",
     "text": [
      "Epoch: 0, Loss: 8.968e-02, Training accuracy:0.801, Validation Accuracy: 0.801, Time: 26.821, Learning Rate: 1.000e-03\n",
      "Epoch: 1, Loss: 4.906e-02, Training accuracy:0.850, Validation Accuracy: 0.841, Time: 35.559, Learning Rate: 1.000e-03\n",
      "Epoch: 2, Loss: 4.226e-02, Training accuracy:0.862, Validation Accuracy: 0.854, Time: 24.274, Learning Rate: 1.000e-03\n",
      "Epoch: 3, Loss: 3.900e-02, Training accuracy:0.870, Validation Accuracy: 0.862, Time: 29.098, Learning Rate: 1.000e-03\n",
      "Epoch: 4, Loss: 3.687e-02, Training accuracy:0.877, Validation Accuracy: 0.868, Time: 26.231, Learning Rate: 1.000e-03\n",
      "Epoch: 5, Loss: 3.533e-02, Training accuracy:0.880, Validation Accuracy: 0.872, Time: 26.075, Learning Rate: 1.000e-03\n",
      "Epoch: 6, Loss: 3.413e-02, Training accuracy:0.883, Validation Accuracy: 0.875, Time: 24.872, Learning Rate: 1.000e-03\n",
      "Epoch: 7, Loss: 3.316e-02, Training accuracy:0.886, Validation Accuracy: 0.875, Time: 27.754, Learning Rate: 1.000e-03\n",
      "Epoch: 8, Loss: 3.235e-02, Training accuracy:0.888, Validation Accuracy: 0.875, Time: 25.953, Learning Rate: 1.000e-03\n",
      "Epoch: 9, Loss: 3.165e-02, Training accuracy:0.890, Validation Accuracy: 0.874, Time: 27.577, Learning Rate: 1.000e-03\n"
     ]
    },
    {
     "data": {
      "text/html": [],
      "text/plain": [
       "<IPython.core.display.HTML object>"
      ]
     },
     "metadata": {},
     "output_type": "display_data"
    },
    {
     "data": {
      "text/html": [
       "<br>    <style><br>        .wandb-row {<br>            display: flex;<br>            flex-direction: row;<br>            flex-wrap: wrap;<br>            justify-content: flex-start;<br>            width: 100%;<br>        }<br>        .wandb-col {<br>            display: flex;<br>            flex-direction: column;<br>            flex-basis: 100%;<br>            flex: 1;<br>            padding: 10px;<br>        }<br>    </style><br><div class=\"wandb-row\"><div class=\"wandb-col\"><h3>Run history:</h3><br/><table class=\"wandb\"><tr><td>epoch</td><td>▁▂▃▃▄▅▆▆▇█</td></tr><tr><td>loss</td><td>█▃▂▂▂▁▁▁▁▁</td></tr><tr><td>training_accuracy</td><td>▁▅▆▆▇▇▇███</td></tr><tr><td>validation_accuracy</td><td>▁▅▆▇▇█████</td></tr></table><br/></div><div class=\"wandb-col\"><h3>Run summary:</h3><br/><table class=\"wandb\"><tr><td>epoch</td><td>9</td></tr><tr><td>loss</td><td>0.03165</td></tr><tr><td>training_accuracy</td><td>0.88996</td></tr><tr><td>validation_accuracy</td><td>0.87417</td></tr></table><br/></div></div>"
      ],
      "text/plain": [
       "<IPython.core.display.HTML object>"
      ]
     },
     "metadata": {},
     "output_type": "display_data"
    },
    {
     "data": {
      "text/html": [
       " View run <strong style=\"color:#cdcd00\">hl_3_hn_32_opt_NADAM_act_sigmoid_lr_0.001_bs_16_init_XAVIER_ep_10_l2_0</strong> at: <a href='https://wandb.ai/ma23c011-indian-institute-of-technology-madras/fashion-mnist-visualization/runs/yke4gnku' target=\"_blank\">https://wandb.ai/ma23c011-indian-institute-of-technology-madras/fashion-mnist-visualization/runs/yke4gnku</a><br> View project at: <a href='https://wandb.ai/ma23c011-indian-institute-of-technology-madras/fashion-mnist-visualization' target=\"_blank\">https://wandb.ai/ma23c011-indian-institute-of-technology-madras/fashion-mnist-visualization</a><br>Synced 5 W&B file(s), 0 media file(s), 0 artifact file(s) and 0 other file(s)"
      ],
      "text/plain": [
       "<IPython.core.display.HTML object>"
      ]
     },
     "metadata": {},
     "output_type": "display_data"
    },
    {
     "data": {
      "text/html": [
       "Find logs at: <code>.\\wandb\\run-20250310_004648-yke4gnku\\logs</code>"
      ],
      "text/plain": [
       "<IPython.core.display.HTML object>"
      ]
     },
     "metadata": {},
     "output_type": "display_data"
    },
    {
     "name": "stderr",
     "output_type": "stream",
     "text": [
      "\u001b[34m\u001b[1mwandb\u001b[0m: Agent Starting Run: pq3tfnwf with config:\n",
      "\u001b[34m\u001b[1mwandb\u001b[0m: \tactivation: sigmoid\n",
      "\u001b[34m\u001b[1mwandb\u001b[0m: \tbatch_size: 16\n",
      "\u001b[34m\u001b[1mwandb\u001b[0m: \tinitializer: RANDOM\n",
      "\u001b[34m\u001b[1mwandb\u001b[0m: \tlearning_rate: 0.0001\n",
      "\u001b[34m\u001b[1mwandb\u001b[0m: \tmax_epochs: 10\n",
      "\u001b[34m\u001b[1mwandb\u001b[0m: \tnum_hidden_neurons: 32\n",
      "\u001b[34m\u001b[1mwandb\u001b[0m: \tnum_layers: 4\n",
      "\u001b[34m\u001b[1mwandb\u001b[0m: \toptimizer: MGD\n",
      "\u001b[34m\u001b[1mwandb\u001b[0m: \tweight_decay: 0.0005\n"
     ]
    },
    {
     "data": {
      "text/html": [
       "Tracking run with wandb version 0.19.7.dev1"
      ],
      "text/plain": [
       "<IPython.core.display.HTML object>"
      ]
     },
     "metadata": {},
     "output_type": "display_data"
    },
    {
     "data": {
      "text/html": [
       "Run data is saved locally in <code>c:\\Users\\himan\\Documents\\GitHub\\DA-6401_Assignments\\wandb\\run-20250310_005236-pq3tfnwf</code>"
      ],
      "text/plain": [
       "<IPython.core.display.HTML object>"
      ]
     },
     "metadata": {},
     "output_type": "display_data"
    },
    {
     "data": {
      "text/html": [
       "Syncing run <strong><a href='https://wandb.ai/ma23c011-indian-institute-of-technology-madras/fashion-mnist-visualization/runs/pq3tfnwf' target=\"_blank\">ruby-sweep-3</a></strong> to <a href='https://wandb.ai/ma23c011-indian-institute-of-technology-madras/fashion-mnist-visualization' target=\"_blank\">Weights & Biases</a> (<a href='https://wandb.me/developer-guide' target=\"_blank\">docs</a>)<br>Sweep page: <a href='https://wandb.ai/ma23c011-indian-institute-of-technology-madras/fashion-mnist-visualization/sweeps/kzcicogx' target=\"_blank\">https://wandb.ai/ma23c011-indian-institute-of-technology-madras/fashion-mnist-visualization/sweeps/kzcicogx</a>"
      ],
      "text/plain": [
       "<IPython.core.display.HTML object>"
      ]
     },
     "metadata": {},
     "output_type": "display_data"
    },
    {
     "data": {
      "text/html": [
       " View project at <a href='https://wandb.ai/ma23c011-indian-institute-of-technology-madras/fashion-mnist-visualization' target=\"_blank\">https://wandb.ai/ma23c011-indian-institute-of-technology-madras/fashion-mnist-visualization</a>"
      ],
      "text/plain": [
       "<IPython.core.display.HTML object>"
      ]
     },
     "metadata": {},
     "output_type": "display_data"
    },
    {
     "data": {
      "text/html": [
       " View sweep at <a href='https://wandb.ai/ma23c011-indian-institute-of-technology-madras/fashion-mnist-visualization/sweeps/kzcicogx' target=\"_blank\">https://wandb.ai/ma23c011-indian-institute-of-technology-madras/fashion-mnist-visualization/sweeps/kzcicogx</a>"
      ],
      "text/plain": [
       "<IPython.core.display.HTML object>"
      ]
     },
     "metadata": {},
     "output_type": "display_data"
    },
    {
     "data": {
      "text/html": [
       " View run at <a href='https://wandb.ai/ma23c011-indian-institute-of-technology-madras/fashion-mnist-visualization/runs/pq3tfnwf' target=\"_blank\">https://wandb.ai/ma23c011-indian-institute-of-technology-madras/fashion-mnist-visualization/runs/pq3tfnwf</a>"
      ],
      "text/plain": [
       "<IPython.core.display.HTML object>"
      ]
     },
     "metadata": {},
     "output_type": "display_data"
    },
    {
     "name": "stdout",
     "output_type": "stream",
     "text": [
      "Epoch: 0, Loss: 2.825e-01, Training accuracy:0.173, Validation Accuracy: 0.188, Time: 37.556, Learning Rate: 1.000e-04\n",
      "Epoch: 1, Loss: 2.122e-01, Training accuracy:0.260, Validation Accuracy: 0.272, Time: 35.331, Learning Rate: 1.000e-04\n",
      "Epoch: 2, Loss: 1.956e-01, Training accuracy:0.336, Validation Accuracy: 0.345, Time: 32.921, Learning Rate: 1.000e-04\n",
      "Epoch: 3, Loss: 1.829e-01, Training accuracy:0.396, Validation Accuracy: 0.408, Time: 30.892, Learning Rate: 1.000e-04\n",
      "Epoch: 4, Loss: 1.721e-01, Training accuracy:0.441, Validation Accuracy: 0.457, Time: 29.459, Learning Rate: 1.000e-04\n",
      "Epoch: 5, Loss: 1.629e-01, Training accuracy:0.474, Validation Accuracy: 0.489, Time: 32.921, Learning Rate: 1.000e-04\n",
      "Epoch: 6, Loss: 1.547e-01, Training accuracy:0.498, Validation Accuracy: 0.512, Time: 30.451, Learning Rate: 1.000e-04\n",
      "Epoch: 7, Loss: 1.475e-01, Training accuracy:0.516, Validation Accuracy: 0.527, Time: 26.083, Learning Rate: 1.000e-04\n",
      "Epoch: 8, Loss: 1.411e-01, Training accuracy:0.531, Validation Accuracy: 0.539, Time: 33.070, Learning Rate: 1.000e-04\n",
      "Epoch: 9, Loss: 1.354e-01, Training accuracy:0.542, Validation Accuracy: 0.549, Time: 26.874, Learning Rate: 1.000e-04\n"
     ]
    },
    {
     "data": {
      "text/html": [],
      "text/plain": [
       "<IPython.core.display.HTML object>"
      ]
     },
     "metadata": {},
     "output_type": "display_data"
    },
    {
     "data": {
      "text/html": [
       "<br>    <style><br>        .wandb-row {<br>            display: flex;<br>            flex-direction: row;<br>            flex-wrap: wrap;<br>            justify-content: flex-start;<br>            width: 100%;<br>        }<br>        .wandb-col {<br>            display: flex;<br>            flex-direction: column;<br>            flex-basis: 100%;<br>            flex: 1;<br>            padding: 10px;<br>        }<br>    </style><br><div class=\"wandb-row\"><div class=\"wandb-col\"><h3>Run history:</h3><br/><table class=\"wandb\"><tr><td>epoch</td><td>▁▂▃▃▄▅▆▆▇█</td></tr><tr><td>loss</td><td>█▅▄▃▃▂▂▂▁▁</td></tr><tr><td>training_accuracy</td><td>▁▃▄▅▆▇▇███</td></tr><tr><td>validation_accuracy</td><td>▁▃▄▅▆▇▇███</td></tr></table><br/></div><div class=\"wandb-col\"><h3>Run summary:</h3><br/><table class=\"wandb\"><tr><td>epoch</td><td>9</td></tr><tr><td>loss</td><td>0.1354</td></tr><tr><td>training_accuracy</td><td>0.54222</td></tr><tr><td>validation_accuracy</td><td>0.54917</td></tr></table><br/></div></div>"
      ],
      "text/plain": [
       "<IPython.core.display.HTML object>"
      ]
     },
     "metadata": {},
     "output_type": "display_data"
    },
    {
     "data": {
      "text/html": [
       " View run <strong style=\"color:#cdcd00\">hl_3_hn_32_opt_MGD_act_sigmoid_lr_0.0001_bs_16_init_RANDOM_ep_10_l2_0.0005</strong> at: <a href='https://wandb.ai/ma23c011-indian-institute-of-technology-madras/fashion-mnist-visualization/runs/pq3tfnwf' target=\"_blank\">https://wandb.ai/ma23c011-indian-institute-of-technology-madras/fashion-mnist-visualization/runs/pq3tfnwf</a><br> View project at: <a href='https://wandb.ai/ma23c011-indian-institute-of-technology-madras/fashion-mnist-visualization' target=\"_blank\">https://wandb.ai/ma23c011-indian-institute-of-technology-madras/fashion-mnist-visualization</a><br>Synced 5 W&B file(s), 0 media file(s), 0 artifact file(s) and 0 other file(s)"
      ],
      "text/plain": [
       "<IPython.core.display.HTML object>"
      ]
     },
     "metadata": {},
     "output_type": "display_data"
    },
    {
     "data": {
      "text/html": [
       "Find logs at: <code>.\\wandb\\run-20250310_005236-pq3tfnwf\\logs</code>"
      ],
      "text/plain": [
       "<IPython.core.display.HTML object>"
      ]
     },
     "metadata": {},
     "output_type": "display_data"
    },
    {
     "name": "stderr",
     "output_type": "stream",
     "text": [
      "\u001b[34m\u001b[1mwandb\u001b[0m: Sweep Agent: Waiting for job.\n",
      "\u001b[34m\u001b[1mwandb\u001b[0m: Job received.\n",
      "\u001b[34m\u001b[1mwandb\u001b[0m: Agent Starting Run: d2v8lf52 with config:\n",
      "\u001b[34m\u001b[1mwandb\u001b[0m: \tactivation: tanh\n",
      "\u001b[34m\u001b[1mwandb\u001b[0m: \tbatch_size: 64\n",
      "\u001b[34m\u001b[1mwandb\u001b[0m: \tinitializer: RANDOM\n",
      "\u001b[34m\u001b[1mwandb\u001b[0m: \tlearning_rate: 0.001\n",
      "\u001b[34m\u001b[1mwandb\u001b[0m: \tmax_epochs: 10\n",
      "\u001b[34m\u001b[1mwandb\u001b[0m: \tnum_hidden_neurons: 128\n",
      "\u001b[34m\u001b[1mwandb\u001b[0m: \tnum_layers: 4\n",
      "\u001b[34m\u001b[1mwandb\u001b[0m: \toptimizer: SGD\n",
      "\u001b[34m\u001b[1mwandb\u001b[0m: \tweight_decay: 0.5\n"
     ]
    },
    {
     "data": {
      "text/html": [
       "Tracking run with wandb version 0.19.7.dev1"
      ],
      "text/plain": [
       "<IPython.core.display.HTML object>"
      ]
     },
     "metadata": {},
     "output_type": "display_data"
    },
    {
     "data": {
      "text/html": [
       "Run data is saved locally in <code>c:\\Users\\himan\\Documents\\GitHub\\DA-6401_Assignments\\wandb\\run-20250310_005922-d2v8lf52</code>"
      ],
      "text/plain": [
       "<IPython.core.display.HTML object>"
      ]
     },
     "metadata": {},
     "output_type": "display_data"
    },
    {
     "data": {
      "text/html": [
       "Syncing run <strong><a href='https://wandb.ai/ma23c011-indian-institute-of-technology-madras/fashion-mnist-visualization/runs/d2v8lf52' target=\"_blank\">exalted-sweep-4</a></strong> to <a href='https://wandb.ai/ma23c011-indian-institute-of-technology-madras/fashion-mnist-visualization' target=\"_blank\">Weights & Biases</a> (<a href='https://wandb.me/developer-guide' target=\"_blank\">docs</a>)<br>Sweep page: <a href='https://wandb.ai/ma23c011-indian-institute-of-technology-madras/fashion-mnist-visualization/sweeps/kzcicogx' target=\"_blank\">https://wandb.ai/ma23c011-indian-institute-of-technology-madras/fashion-mnist-visualization/sweeps/kzcicogx</a>"
      ],
      "text/plain": [
       "<IPython.core.display.HTML object>"
      ]
     },
     "metadata": {},
     "output_type": "display_data"
    },
    {
     "data": {
      "text/html": [
       " View project at <a href='https://wandb.ai/ma23c011-indian-institute-of-technology-madras/fashion-mnist-visualization' target=\"_blank\">https://wandb.ai/ma23c011-indian-institute-of-technology-madras/fashion-mnist-visualization</a>"
      ],
      "text/plain": [
       "<IPython.core.display.HTML object>"
      ]
     },
     "metadata": {},
     "output_type": "display_data"
    },
    {
     "data": {
      "text/html": [
       " View sweep at <a href='https://wandb.ai/ma23c011-indian-institute-of-technology-madras/fashion-mnist-visualization/sweeps/kzcicogx' target=\"_blank\">https://wandb.ai/ma23c011-indian-institute-of-technology-madras/fashion-mnist-visualization/sweeps/kzcicogx</a>"
      ],
      "text/plain": [
       "<IPython.core.display.HTML object>"
      ]
     },
     "metadata": {},
     "output_type": "display_data"
    },
    {
     "data": {
      "text/html": [
       " View run at <a href='https://wandb.ai/ma23c011-indian-institute-of-technology-madras/fashion-mnist-visualization/runs/d2v8lf52' target=\"_blank\">https://wandb.ai/ma23c011-indian-institute-of-technology-madras/fashion-mnist-visualization/runs/d2v8lf52</a>"
      ],
      "text/plain": [
       "<IPython.core.display.HTML object>"
      ]
     },
     "metadata": {},
     "output_type": "display_data"
    },
    {
     "name": "stdout",
     "output_type": "stream",
     "text": [
      "Epoch: 0, Loss: 5.336e-01, Training accuracy:0.203, Validation Accuracy: 0.212, Time: 24.769, Learning Rate: 1.000e-03\n",
      "Epoch: 1, Loss: 3.437e-01, Training accuracy:0.274, Validation Accuracy: 0.283, Time: 25.953, Learning Rate: 1.000e-03\n",
      "Epoch: 2, Loss: 2.700e-01, Training accuracy:0.333, Validation Accuracy: 0.339, Time: 24.891, Learning Rate: 1.000e-03\n",
      "Epoch: 3, Loss: 2.286e-01, Training accuracy:0.373, Validation Accuracy: 0.373, Time: 21.796, Learning Rate: 1.000e-03\n",
      "Epoch: 4, Loss: 2.021e-01, Training accuracy:0.409, Validation Accuracy: 0.404, Time: 24.725, Learning Rate: 1.000e-03\n",
      "Epoch: 5, Loss: 1.855e-01, Training accuracy:0.437, Validation Accuracy: 0.430, Time: 27.814, Learning Rate: 1.000e-03\n",
      "Epoch: 6, Loss: 1.748e-01, Training accuracy:0.461, Validation Accuracy: 0.455, Time: 26.583, Learning Rate: 1.000e-03\n",
      "Epoch: 7, Loss: 1.662e-01, Training accuracy:0.485, Validation Accuracy: 0.485, Time: 29.354, Learning Rate: 1.000e-03\n",
      "Epoch: 8, Loss: 1.591e-01, Training accuracy:0.503, Validation Accuracy: 0.500, Time: 31.570, Learning Rate: 1.000e-03\n",
      "Epoch: 9, Loss: 1.530e-01, Training accuracy:0.516, Validation Accuracy: 0.513, Time: 27.322, Learning Rate: 1.000e-03\n"
     ]
    },
    {
     "data": {
      "text/html": [],
      "text/plain": [
       "<IPython.core.display.HTML object>"
      ]
     },
     "metadata": {},
     "output_type": "display_data"
    },
    {
     "data": {
      "text/html": [
       "<br>    <style><br>        .wandb-row {<br>            display: flex;<br>            flex-direction: row;<br>            flex-wrap: wrap;<br>            justify-content: flex-start;<br>            width: 100%;<br>        }<br>        .wandb-col {<br>            display: flex;<br>            flex-direction: column;<br>            flex-basis: 100%;<br>            flex: 1;<br>            padding: 10px;<br>        }<br>    </style><br><div class=\"wandb-row\"><div class=\"wandb-col\"><h3>Run history:</h3><br/><table class=\"wandb\"><tr><td>epoch</td><td>▁▂▃▃▄▅▆▆▇█</td></tr><tr><td>loss</td><td>█▅▃▂▂▂▁▁▁▁</td></tr><tr><td>training_accuracy</td><td>▁▃▄▅▆▆▇▇██</td></tr><tr><td>validation_accuracy</td><td>▁▃▄▅▅▆▇▇██</td></tr></table><br/></div><div class=\"wandb-col\"><h3>Run summary:</h3><br/><table class=\"wandb\"><tr><td>epoch</td><td>9</td></tr><tr><td>loss</td><td>0.153</td></tr><tr><td>training_accuracy</td><td>0.51557</td></tr><tr><td>validation_accuracy</td><td>0.51283</td></tr></table><br/></div></div>"
      ],
      "text/plain": [
       "<IPython.core.display.HTML object>"
      ]
     },
     "metadata": {},
     "output_type": "display_data"
    },
    {
     "data": {
      "text/html": [
       " View run <strong style=\"color:#cdcd00\">hl_3_hn_32_opt_SGD_act_tanh_lr_0.001_bs_64_init_RANDOM_ep_10_l2_0.5</strong> at: <a href='https://wandb.ai/ma23c011-indian-institute-of-technology-madras/fashion-mnist-visualization/runs/d2v8lf52' target=\"_blank\">https://wandb.ai/ma23c011-indian-institute-of-technology-madras/fashion-mnist-visualization/runs/d2v8lf52</a><br> View project at: <a href='https://wandb.ai/ma23c011-indian-institute-of-technology-madras/fashion-mnist-visualization' target=\"_blank\">https://wandb.ai/ma23c011-indian-institute-of-technology-madras/fashion-mnist-visualization</a><br>Synced 5 W&B file(s), 0 media file(s), 0 artifact file(s) and 0 other file(s)"
      ],
      "text/plain": [
       "<IPython.core.display.HTML object>"
      ]
     },
     "metadata": {},
     "output_type": "display_data"
    },
    {
     "data": {
      "text/html": [
       "Find logs at: <code>.\\wandb\\run-20250310_005922-d2v8lf52\\logs</code>"
      ],
      "text/plain": [
       "<IPython.core.display.HTML object>"
      ]
     },
     "metadata": {},
     "output_type": "display_data"
    },
    {
     "name": "stderr",
     "output_type": "stream",
     "text": [
      "\u001b[34m\u001b[1mwandb\u001b[0m: Agent Starting Run: kqbsaqcz with config:\n",
      "\u001b[34m\u001b[1mwandb\u001b[0m: \tactivation: tanh\n",
      "\u001b[34m\u001b[1mwandb\u001b[0m: \tbatch_size: 16\n",
      "\u001b[34m\u001b[1mwandb\u001b[0m: \tinitializer: XAVIER\n",
      "\u001b[34m\u001b[1mwandb\u001b[0m: \tlearning_rate: 0.0001\n",
      "\u001b[34m\u001b[1mwandb\u001b[0m: \tmax_epochs: 5\n",
      "\u001b[34m\u001b[1mwandb\u001b[0m: \tnum_hidden_neurons: 32\n",
      "\u001b[34m\u001b[1mwandb\u001b[0m: \tnum_layers: 3\n",
      "\u001b[34m\u001b[1mwandb\u001b[0m: \toptimizer: MGD\n",
      "\u001b[34m\u001b[1mwandb\u001b[0m: \tweight_decay: 0.0005\n"
     ]
    },
    {
     "data": {
      "text/html": [
       "Tracking run with wandb version 0.19.7.dev1"
      ],
      "text/plain": [
       "<IPython.core.display.HTML object>"
      ]
     },
     "metadata": {},
     "output_type": "display_data"
    },
    {
     "data": {
      "text/html": [
       "Run data is saved locally in <code>c:\\Users\\himan\\Documents\\GitHub\\DA-6401_Assignments\\wandb\\run-20250310_010459-kqbsaqcz</code>"
      ],
      "text/plain": [
       "<IPython.core.display.HTML object>"
      ]
     },
     "metadata": {},
     "output_type": "display_data"
    },
    {
     "data": {
      "text/html": [
       "Syncing run <strong><a href='https://wandb.ai/ma23c011-indian-institute-of-technology-madras/fashion-mnist-visualization/runs/kqbsaqcz' target=\"_blank\">robust-sweep-5</a></strong> to <a href='https://wandb.ai/ma23c011-indian-institute-of-technology-madras/fashion-mnist-visualization' target=\"_blank\">Weights & Biases</a> (<a href='https://wandb.me/developer-guide' target=\"_blank\">docs</a>)<br>Sweep page: <a href='https://wandb.ai/ma23c011-indian-institute-of-technology-madras/fashion-mnist-visualization/sweeps/kzcicogx' target=\"_blank\">https://wandb.ai/ma23c011-indian-institute-of-technology-madras/fashion-mnist-visualization/sweeps/kzcicogx</a>"
      ],
      "text/plain": [
       "<IPython.core.display.HTML object>"
      ]
     },
     "metadata": {},
     "output_type": "display_data"
    },
    {
     "data": {
      "text/html": [
       " View project at <a href='https://wandb.ai/ma23c011-indian-institute-of-technology-madras/fashion-mnist-visualization' target=\"_blank\">https://wandb.ai/ma23c011-indian-institute-of-technology-madras/fashion-mnist-visualization</a>"
      ],
      "text/plain": [
       "<IPython.core.display.HTML object>"
      ]
     },
     "metadata": {},
     "output_type": "display_data"
    },
    {
     "data": {
      "text/html": [
       " View sweep at <a href='https://wandb.ai/ma23c011-indian-institute-of-technology-madras/fashion-mnist-visualization/sweeps/kzcicogx' target=\"_blank\">https://wandb.ai/ma23c011-indian-institute-of-technology-madras/fashion-mnist-visualization/sweeps/kzcicogx</a>"
      ],
      "text/plain": [
       "<IPython.core.display.HTML object>"
      ]
     },
     "metadata": {},
     "output_type": "display_data"
    },
    {
     "data": {
      "text/html": [
       " View run at <a href='https://wandb.ai/ma23c011-indian-institute-of-technology-madras/fashion-mnist-visualization/runs/kqbsaqcz' target=\"_blank\">https://wandb.ai/ma23c011-indian-institute-of-technology-madras/fashion-mnist-visualization/runs/kqbsaqcz</a>"
      ],
      "text/plain": [
       "<IPython.core.display.HTML object>"
      ]
     },
     "metadata": {},
     "output_type": "display_data"
    },
    {
     "name": "stdout",
     "output_type": "stream",
     "text": [
      "Epoch: 0, Loss: 1.360e-01, Training accuracy:0.696, Validation Accuracy: 0.689, Time: 31.402, Learning Rate: 1.000e-04\n",
      "Epoch: 1, Loss: 8.643e-02, Training accuracy:0.752, Validation Accuracy: 0.746, Time: 31.318, Learning Rate: 1.000e-04\n",
      "Epoch: 2, Loss: 7.182e-02, Training accuracy:0.783, Validation Accuracy: 0.774, Time: 24.942, Learning Rate: 1.000e-04\n",
      "Epoch: 3, Loss: 6.354e-02, Training accuracy:0.799, Validation Accuracy: 0.794, Time: 25.857, Learning Rate: 1.000e-04\n",
      "Epoch: 4, Loss: 5.831e-02, Training accuracy:0.809, Validation Accuracy: 0.804, Time: 22.927, Learning Rate: 1.000e-04\n"
     ]
    },
    {
     "data": {
      "text/html": [],
      "text/plain": [
       "<IPython.core.display.HTML object>"
      ]
     },
     "metadata": {},
     "output_type": "display_data"
    },
    {
     "data": {
      "text/html": [
       "<br>    <style><br>        .wandb-row {<br>            display: flex;<br>            flex-direction: row;<br>            flex-wrap: wrap;<br>            justify-content: flex-start;<br>            width: 100%;<br>        }<br>        .wandb-col {<br>            display: flex;<br>            flex-direction: column;<br>            flex-basis: 100%;<br>            flex: 1;<br>            padding: 10px;<br>        }<br>    </style><br><div class=\"wandb-row\"><div class=\"wandb-col\"><h3>Run history:</h3><br/><table class=\"wandb\"><tr><td>epoch</td><td>▁▃▅▆█</td></tr><tr><td>loss</td><td>█▄▂▁▁</td></tr><tr><td>training_accuracy</td><td>▁▄▆▇█</td></tr><tr><td>validation_accuracy</td><td>▁▄▆▇█</td></tr></table><br/></div><div class=\"wandb-col\"><h3>Run summary:</h3><br/><table class=\"wandb\"><tr><td>epoch</td><td>4</td></tr><tr><td>loss</td><td>0.05831</td></tr><tr><td>training_accuracy</td><td>0.80941</td></tr><tr><td>validation_accuracy</td><td>0.804</td></tr></table><br/></div></div>"
      ],
      "text/plain": [
       "<IPython.core.display.HTML object>"
      ]
     },
     "metadata": {},
     "output_type": "display_data"
    },
    {
     "data": {
      "text/html": [
       " View run <strong style=\"color:#cdcd00\">hl_3_hn_32_opt_MGD_act_tanh_lr_0.0001_bs_16_init_XAVIER_ep_5_l2_0.0005</strong> at: <a href='https://wandb.ai/ma23c011-indian-institute-of-technology-madras/fashion-mnist-visualization/runs/kqbsaqcz' target=\"_blank\">https://wandb.ai/ma23c011-indian-institute-of-technology-madras/fashion-mnist-visualization/runs/kqbsaqcz</a><br> View project at: <a href='https://wandb.ai/ma23c011-indian-institute-of-technology-madras/fashion-mnist-visualization' target=\"_blank\">https://wandb.ai/ma23c011-indian-institute-of-technology-madras/fashion-mnist-visualization</a><br>Synced 5 W&B file(s), 0 media file(s), 0 artifact file(s) and 0 other file(s)"
      ],
      "text/plain": [
       "<IPython.core.display.HTML object>"
      ]
     },
     "metadata": {},
     "output_type": "display_data"
    },
    {
     "data": {
      "text/html": [
       "Find logs at: <code>.\\wandb\\run-20250310_010459-kqbsaqcz\\logs</code>"
      ],
      "text/plain": [
       "<IPython.core.display.HTML object>"
      ]
     },
     "metadata": {},
     "output_type": "display_data"
    },
    {
     "name": "stderr",
     "output_type": "stream",
     "text": [
      "\u001b[34m\u001b[1mwandb\u001b[0m: Agent Starting Run: w970y894 with config:\n",
      "\u001b[34m\u001b[1mwandb\u001b[0m: \tactivation: sigmoid\n",
      "\u001b[34m\u001b[1mwandb\u001b[0m: \tbatch_size: 64\n",
      "\u001b[34m\u001b[1mwandb\u001b[0m: \tinitializer: XAVIER\n",
      "\u001b[34m\u001b[1mwandb\u001b[0m: \tlearning_rate: 0.0001\n",
      "\u001b[34m\u001b[1mwandb\u001b[0m: \tmax_epochs: 5\n",
      "\u001b[34m\u001b[1mwandb\u001b[0m: \tnum_hidden_neurons: 128\n",
      "\u001b[34m\u001b[1mwandb\u001b[0m: \tnum_layers: 5\n",
      "\u001b[34m\u001b[1mwandb\u001b[0m: \toptimizer: NAG\n",
      "\u001b[34m\u001b[1mwandb\u001b[0m: \tweight_decay: 0.0005\n"
     ]
    },
    {
     "data": {
      "text/html": [
       "Tracking run with wandb version 0.19.7.dev1"
      ],
      "text/plain": [
       "<IPython.core.display.HTML object>"
      ]
     },
     "metadata": {},
     "output_type": "display_data"
    },
    {
     "data": {
      "text/html": [
       "Run data is saved locally in <code>c:\\Users\\himan\\Documents\\GitHub\\DA-6401_Assignments\\wandb\\run-20250310_010756-w970y894</code>"
      ],
      "text/plain": [
       "<IPython.core.display.HTML object>"
      ]
     },
     "metadata": {},
     "output_type": "display_data"
    },
    {
     "data": {
      "text/html": [
       "Syncing run <strong><a href='https://wandb.ai/ma23c011-indian-institute-of-technology-madras/fashion-mnist-visualization/runs/w970y894' target=\"_blank\">jumping-sweep-6</a></strong> to <a href='https://wandb.ai/ma23c011-indian-institute-of-technology-madras/fashion-mnist-visualization' target=\"_blank\">Weights & Biases</a> (<a href='https://wandb.me/developer-guide' target=\"_blank\">docs</a>)<br>Sweep page: <a href='https://wandb.ai/ma23c011-indian-institute-of-technology-madras/fashion-mnist-visualization/sweeps/kzcicogx' target=\"_blank\">https://wandb.ai/ma23c011-indian-institute-of-technology-madras/fashion-mnist-visualization/sweeps/kzcicogx</a>"
      ],
      "text/plain": [
       "<IPython.core.display.HTML object>"
      ]
     },
     "metadata": {},
     "output_type": "display_data"
    },
    {
     "data": {
      "text/html": [
       " View project at <a href='https://wandb.ai/ma23c011-indian-institute-of-technology-madras/fashion-mnist-visualization' target=\"_blank\">https://wandb.ai/ma23c011-indian-institute-of-technology-madras/fashion-mnist-visualization</a>"
      ],
      "text/plain": [
       "<IPython.core.display.HTML object>"
      ]
     },
     "metadata": {},
     "output_type": "display_data"
    },
    {
     "data": {
      "text/html": [
       " View sweep at <a href='https://wandb.ai/ma23c011-indian-institute-of-technology-madras/fashion-mnist-visualization/sweeps/kzcicogx' target=\"_blank\">https://wandb.ai/ma23c011-indian-institute-of-technology-madras/fashion-mnist-visualization/sweeps/kzcicogx</a>"
      ],
      "text/plain": [
       "<IPython.core.display.HTML object>"
      ]
     },
     "metadata": {},
     "output_type": "display_data"
    },
    {
     "data": {
      "text/html": [
       " View run at <a href='https://wandb.ai/ma23c011-indian-institute-of-technology-madras/fashion-mnist-visualization/runs/w970y894' target=\"_blank\">https://wandb.ai/ma23c011-indian-institute-of-technology-madras/fashion-mnist-visualization/runs/w970y894</a>"
      ],
      "text/plain": [
       "<IPython.core.display.HTML object>"
      ]
     },
     "metadata": {},
     "output_type": "display_data"
    },
    {
     "name": "stdout",
     "output_type": "stream",
     "text": [
      "Epoch: 0, Loss: 2.421e-01, Training accuracy:0.100, Validation Accuracy: 0.101, Time: 27.351, Learning Rate: 1.000e-04\n",
      "Epoch: 1, Loss: 2.324e-01, Training accuracy:0.100, Validation Accuracy: 0.101, Time: 27.881, Learning Rate: 1.000e-04\n",
      "Epoch: 2, Loss: 2.308e-01, Training accuracy:0.100, Validation Accuracy: 0.101, Time: 38.233, Learning Rate: 1.000e-04\n",
      "Epoch: 3, Loss: 2.305e-01, Training accuracy:0.101, Validation Accuracy: 0.102, Time: 24.643, Learning Rate: 1.000e-04\n",
      "Epoch: 4, Loss: 2.304e-01, Training accuracy:0.109, Validation Accuracy: 0.106, Time: 56.869, Learning Rate: 1.000e-04\n"
     ]
    },
    {
     "data": {
      "text/html": [],
      "text/plain": [
       "<IPython.core.display.HTML object>"
      ]
     },
     "metadata": {},
     "output_type": "display_data"
    },
    {
     "data": {
      "text/html": [
       "<br>    <style><br>        .wandb-row {<br>            display: flex;<br>            flex-direction: row;<br>            flex-wrap: wrap;<br>            justify-content: flex-start;<br>            width: 100%;<br>        }<br>        .wandb-col {<br>            display: flex;<br>            flex-direction: column;<br>            flex-basis: 100%;<br>            flex: 1;<br>            padding: 10px;<br>        }<br>    </style><br><div class=\"wandb-row\"><div class=\"wandb-col\"><h3>Run history:</h3><br/><table class=\"wandb\"><tr><td>epoch</td><td>▁▃▅▆█</td></tr><tr><td>loss</td><td>█▂▁▁▁</td></tr><tr><td>training_accuracy</td><td>▁▁▁▂█</td></tr><tr><td>validation_accuracy</td><td>▁▁▁▂█</td></tr></table><br/></div><div class=\"wandb-col\"><h3>Run summary:</h3><br/><table class=\"wandb\"><tr><td>epoch</td><td>4</td></tr><tr><td>loss</td><td>0.23036</td></tr><tr><td>training_accuracy</td><td>0.10861</td></tr><tr><td>validation_accuracy</td><td>0.106</td></tr></table><br/></div></div>"
      ],
      "text/plain": [
       "<IPython.core.display.HTML object>"
      ]
     },
     "metadata": {},
     "output_type": "display_data"
    },
    {
     "data": {
      "text/html": [
       " View run <strong style=\"color:#cdcd00\">hl_3_hn_32_opt_NAG_act_sigmoid_lr_0.0001_bs_64_init_XAVIER_ep_5_l2_0.0005</strong> at: <a href='https://wandb.ai/ma23c011-indian-institute-of-technology-madras/fashion-mnist-visualization/runs/w970y894' target=\"_blank\">https://wandb.ai/ma23c011-indian-institute-of-technology-madras/fashion-mnist-visualization/runs/w970y894</a><br> View project at: <a href='https://wandb.ai/ma23c011-indian-institute-of-technology-madras/fashion-mnist-visualization' target=\"_blank\">https://wandb.ai/ma23c011-indian-institute-of-technology-madras/fashion-mnist-visualization</a><br>Synced 5 W&B file(s), 0 media file(s), 0 artifact file(s) and 0 other file(s)"
      ],
      "text/plain": [
       "<IPython.core.display.HTML object>"
      ]
     },
     "metadata": {},
     "output_type": "display_data"
    },
    {
     "data": {
      "text/html": [
       "Find logs at: <code>.\\wandb\\run-20250310_010756-w970y894\\logs</code>"
      ],
      "text/plain": [
       "<IPython.core.display.HTML object>"
      ]
     },
     "metadata": {},
     "output_type": "display_data"
    }
   ],
   "source": [
    "wandb.agent(sweep_id, train, count = 5)"
   ]
  },
  {
   "cell_type": "code",
   "execution_count": 24,
   "metadata": {},
   "outputs": [
    {
     "name": "stderr",
     "output_type": "stream",
     "text": [
      "\u001b[34m\u001b[1mwandb\u001b[0m: Agent Starting Run: vuepspuz with config:\n",
      "\u001b[34m\u001b[1mwandb\u001b[0m: \tactivation: tanh\n",
      "\u001b[34m\u001b[1mwandb\u001b[0m: \tbatch_size: 32\n",
      "\u001b[34m\u001b[1mwandb\u001b[0m: \thidden_layers: 4\n",
      "\u001b[34m\u001b[1mwandb\u001b[0m: \tinitializer: XAVIER\n",
      "\u001b[34m\u001b[1mwandb\u001b[0m: \tlearning_rate: 0.0001\n",
      "\u001b[34m\u001b[1mwandb\u001b[0m: \tmax_epochs: 10\n",
      "\u001b[34m\u001b[1mwandb\u001b[0m: \tno_of_hidden_neurons: 64\n",
      "\u001b[34m\u001b[1mwandb\u001b[0m: \toptimizer: NADAM\n",
      "\u001b[34m\u001b[1mwandb\u001b[0m: \tweight_decay: 0.5\n"
     ]
    },
    {
     "data": {
      "text/html": [
       "Tracking run with wandb version 0.19.7.dev1"
      ],
      "text/plain": [
       "<IPython.core.display.HTML object>"
      ]
     },
     "metadata": {},
     "output_type": "display_data"
    },
    {
     "data": {
      "text/html": [
       "Run data is saved locally in <code>c:\\Users\\himan\\Documents\\GitHub\\DA-6401_Assignments\\wandb\\run-20250310_011414-vuepspuz</code>"
      ],
      "text/plain": [
       "<IPython.core.display.HTML object>"
      ]
     },
     "metadata": {},
     "output_type": "display_data"
    },
    {
     "data": {
      "text/html": [
       "Syncing run <strong><a href='https://wandb.ai/ma23c011-indian-institute-of-technology-madras/fashion-mnist-visualization/runs/vuepspuz' target=\"_blank\">smooth-sweep-1</a></strong> to <a href='https://wandb.ai/ma23c011-indian-institute-of-technology-madras/fashion-mnist-visualization' target=\"_blank\">Weights & Biases</a> (<a href='https://wandb.me/developer-guide' target=\"_blank\">docs</a>)<br>Sweep page: <a href='https://wandb.ai/ma23c011-indian-institute-of-technology-madras/fashion-mnist-visualization/sweeps/s6hfy0pf' target=\"_blank\">https://wandb.ai/ma23c011-indian-institute-of-technology-madras/fashion-mnist-visualization/sweeps/s6hfy0pf</a>"
      ],
      "text/plain": [
       "<IPython.core.display.HTML object>"
      ]
     },
     "metadata": {},
     "output_type": "display_data"
    },
    {
     "data": {
      "text/html": [
       " View project at <a href='https://wandb.ai/ma23c011-indian-institute-of-technology-madras/fashion-mnist-visualization' target=\"_blank\">https://wandb.ai/ma23c011-indian-institute-of-technology-madras/fashion-mnist-visualization</a>"
      ],
      "text/plain": [
       "<IPython.core.display.HTML object>"
      ]
     },
     "metadata": {},
     "output_type": "display_data"
    },
    {
     "data": {
      "text/html": [
       " View sweep at <a href='https://wandb.ai/ma23c011-indian-institute-of-technology-madras/fashion-mnist-visualization/sweeps/s6hfy0pf' target=\"_blank\">https://wandb.ai/ma23c011-indian-institute-of-technology-madras/fashion-mnist-visualization/sweeps/s6hfy0pf</a>"
      ],
      "text/plain": [
       "<IPython.core.display.HTML object>"
      ]
     },
     "metadata": {},
     "output_type": "display_data"
    },
    {
     "data": {
      "text/html": [
       " View run at <a href='https://wandb.ai/ma23c011-indian-institute-of-technology-madras/fashion-mnist-visualization/runs/vuepspuz' target=\"_blank\">https://wandb.ai/ma23c011-indian-institute-of-technology-madras/fashion-mnist-visualization/runs/vuepspuz</a>"
      ],
      "text/plain": [
       "<IPython.core.display.HTML object>"
      ]
     },
     "metadata": {},
     "output_type": "display_data"
    },
    {
     "name": "stdout",
     "output_type": "stream",
     "text": [
      "Epoch: 0, Loss: 7.263e-02, Training accuracy:0.834, Validation Accuracy: 0.831, Time: 30.097, Learning Rate: 1.000e-04\n",
      "Epoch: 1, Loss: 4.531e-02, Training accuracy:0.853, Validation Accuracy: 0.845, Time: 35.721, Learning Rate: 1.000e-04\n",
      "Epoch: 2, Loss: 4.135e-02, Training accuracy:0.860, Validation Accuracy: 0.854, Time: 40.846, Learning Rate: 1.000e-04\n",
      "Epoch: 3, Loss: 3.922e-02, Training accuracy:0.866, Validation Accuracy: 0.859, Time: 38.524, Learning Rate: 1.000e-04\n",
      "Epoch: 4, Loss: 3.778e-02, Training accuracy:0.869, Validation Accuracy: 0.861, Time: 65.374, Learning Rate: 1.000e-04\n",
      "Epoch: 5, Loss: 3.667e-02, Training accuracy:0.872, Validation Accuracy: 0.863, Time: 49.864, Learning Rate: 1.000e-04\n",
      "Epoch: 6, Loss: 3.578e-02, Training accuracy:0.875, Validation Accuracy: 0.865, Time: 37.249, Learning Rate: 1.000e-04\n",
      "Epoch: 7, Loss: 3.501e-02, Training accuracy:0.877, Validation Accuracy: 0.866, Time: 31.135, Learning Rate: 1.000e-04\n",
      "Epoch: 8, Loss: 3.435e-02, Training accuracy:0.879, Validation Accuracy: 0.869, Time: 34.097, Learning Rate: 1.000e-04\n",
      "Epoch: 9, Loss: 3.374e-02, Training accuracy:0.881, Validation Accuracy: 0.870, Time: 93.804, Learning Rate: 1.000e-04\n"
     ]
    },
    {
     "data": {
      "text/html": [],
      "text/plain": [
       "<IPython.core.display.HTML object>"
      ]
     },
     "metadata": {},
     "output_type": "display_data"
    },
    {
     "data": {
      "text/html": [
       "<br>    <style><br>        .wandb-row {<br>            display: flex;<br>            flex-direction: row;<br>            flex-wrap: wrap;<br>            justify-content: flex-start;<br>            width: 100%;<br>        }<br>        .wandb-col {<br>            display: flex;<br>            flex-direction: column;<br>            flex-basis: 100%;<br>            flex: 1;<br>            padding: 10px;<br>        }<br>    </style><br><div class=\"wandb-row\"><div class=\"wandb-col\"><h3>Run history:</h3><br/><table class=\"wandb\"><tr><td>epoch</td><td>▁▂▃▃▄▅▆▆▇█</td></tr><tr><td>loss</td><td>█▃▂▂▂▂▁▁▁▁</td></tr><tr><td>training_accuracy</td><td>▁▄▅▆▆▇▇▇██</td></tr><tr><td>validation_accuracy</td><td>▁▃▅▆▆▇▇▇██</td></tr></table><br/></div><div class=\"wandb-col\"><h3>Run summary:</h3><br/><table class=\"wandb\"><tr><td>epoch</td><td>9</td></tr><tr><td>loss</td><td>0.03374</td></tr><tr><td>training_accuracy</td><td>0.88096</td></tr><tr><td>validation_accuracy</td><td>0.86967</td></tr></table><br/></div></div>"
      ],
      "text/plain": [
       "<IPython.core.display.HTML object>"
      ]
     },
     "metadata": {},
     "output_type": "display_data"
    },
    {
     "data": {
      "text/html": [
       " View run <strong style=\"color:#cdcd00\">hl_4_hn_64_opt_NADAM_act_tanh_lr_0.0001_bs_32_init_XAVIER_ep_10_l2_0.5</strong> at: <a href='https://wandb.ai/ma23c011-indian-institute-of-technology-madras/fashion-mnist-visualization/runs/vuepspuz' target=\"_blank\">https://wandb.ai/ma23c011-indian-institute-of-technology-madras/fashion-mnist-visualization/runs/vuepspuz</a><br> View project at: <a href='https://wandb.ai/ma23c011-indian-institute-of-technology-madras/fashion-mnist-visualization' target=\"_blank\">https://wandb.ai/ma23c011-indian-institute-of-technology-madras/fashion-mnist-visualization</a><br>Synced 5 W&B file(s), 0 media file(s), 0 artifact file(s) and 0 other file(s)"
      ],
      "text/plain": [
       "<IPython.core.display.HTML object>"
      ]
     },
     "metadata": {},
     "output_type": "display_data"
    },
    {
     "data": {
      "text/html": [
       "Find logs at: <code>.\\wandb\\run-20250310_011414-vuepspuz\\logs</code>"
      ],
      "text/plain": [
       "<IPython.core.display.HTML object>"
      ]
     },
     "metadata": {},
     "output_type": "display_data"
    },
    {
     "name": "stderr",
     "output_type": "stream",
     "text": [
      "Run vuepspuz errored:\n",
      "Traceback (most recent call last):\n",
      "  File \"c:\\Users\\himan\\.conda\\envs\\hj\\lib\\site-packages\\wandb\\agents\\pyagent.py\", line 306, in _run_job\n",
      "    self._function()\n",
      "  File \"C:\\Users\\himan\\AppData\\Local\\Temp\\ipykernel_25500\\1770519332.py\", line 45, in train\n",
      "    training_loss, training_accuracy, validation_loss, validation_accuracy, Y_pred = FFNN.optimizer(FFNN.max_epochs, FFNN.N_train, FFNN.batch_size, FFNN.learning_rate)\n",
      "ValueError: not enough values to unpack (expected 5, got 4)\n",
      "\n",
      "\u001b[34m\u001b[1mwandb\u001b[0m: \u001b[32m\u001b[41mERROR\u001b[0m Run vuepspuz errored:\n",
      "\u001b[34m\u001b[1mwandb\u001b[0m: \u001b[32m\u001b[41mERROR\u001b[0m Traceback (most recent call last):\n",
      "\u001b[34m\u001b[1mwandb\u001b[0m: \u001b[32m\u001b[41mERROR\u001b[0m   File \"c:\\Users\\himan\\.conda\\envs\\hj\\lib\\site-packages\\wandb\\agents\\pyagent.py\", line 306, in _run_job\n",
      "\u001b[34m\u001b[1mwandb\u001b[0m: \u001b[32m\u001b[41mERROR\u001b[0m     self._function()\n",
      "\u001b[34m\u001b[1mwandb\u001b[0m: \u001b[32m\u001b[41mERROR\u001b[0m   File \"C:\\Users\\himan\\AppData\\Local\\Temp\\ipykernel_25500\\1770519332.py\", line 45, in train\n",
      "\u001b[34m\u001b[1mwandb\u001b[0m: \u001b[32m\u001b[41mERROR\u001b[0m     training_loss, training_accuracy, validation_loss, validation_accuracy, Y_pred = FFNN.optimizer(FFNN.max_epochs, FFNN.N_train, FFNN.batch_size, FFNN.learning_rate)\n",
      "\u001b[34m\u001b[1mwandb\u001b[0m: \u001b[32m\u001b[41mERROR\u001b[0m ValueError: not enough values to unpack (expected 5, got 4)\n",
      "\u001b[34m\u001b[1mwandb\u001b[0m: \u001b[32m\u001b[41mERROR\u001b[0m \n"
     ]
    }
   ],
   "source": [
    "wandb.agent(sweep_id, train, count = 1)"
   ]
  },
  {
   "cell_type": "code",
   "execution_count": null,
   "metadata": {},
   "outputs": [
    {
     "name": "stderr",
     "output_type": "stream",
     "text": [
      "\u001b[34m\u001b[1mwandb\u001b[0m: Agent Starting Run: uh4s27d9 with config:\n",
      "\u001b[34m\u001b[1mwandb\u001b[0m: \tactivation: tanh\n",
      "\u001b[34m\u001b[1mwandb\u001b[0m: \tbatch_size: 64\n",
      "\u001b[34m\u001b[1mwandb\u001b[0m: \thidden_layers: 4\n",
      "\u001b[34m\u001b[1mwandb\u001b[0m: \tinitializer: XAVIER\n",
      "\u001b[34m\u001b[1mwandb\u001b[0m: \tlearning_rate: 0.001\n",
      "\u001b[34m\u001b[1mwandb\u001b[0m: \tmax_epochs: 10\n",
      "\u001b[34m\u001b[1mwandb\u001b[0m: \tno_of_hidden_neurons: 128\n",
      "\u001b[34m\u001b[1mwandb\u001b[0m: \toptimizer: SGD\n",
      "\u001b[34m\u001b[1mwandb\u001b[0m: \tweight_decay: 0.0005\n",
      "\u001b[34m\u001b[1mwandb\u001b[0m: Currently logged in as: \u001b[33mma23c011\u001b[0m (\u001b[33mma23c011-indian-institute-of-technology-madras\u001b[0m) to \u001b[32mhttps://api.wandb.ai\u001b[0m. Use \u001b[1m`wandb login --relogin`\u001b[0m to force relogin\n"
     ]
    },
    {
     "data": {
      "text/html": [
       "Tracking run with wandb version 0.19.7.dev1"
      ],
      "text/plain": [
       "<IPython.core.display.HTML object>"
      ]
     },
     "metadata": {},
     "output_type": "display_data"
    },
    {
     "data": {
      "text/html": [
       "Run data is saved locally in <code>c:\\Users\\himan\\Documents\\GitHub\\DA-6401_Assignments\\wandb\\run-20250310_013634-uh4s27d9</code>"
      ],
      "text/plain": [
       "<IPython.core.display.HTML object>"
      ]
     },
     "metadata": {},
     "output_type": "display_data"
    },
    {
     "data": {
      "text/html": [
       "Syncing run <strong><a href='https://wandb.ai/ma23c011-indian-institute-of-technology-madras/fashion-mnist-visualization/runs/uh4s27d9' target=\"_blank\">trim-sweep-1</a></strong> to <a href='https://wandb.ai/ma23c011-indian-institute-of-technology-madras/fashion-mnist-visualization' target=\"_blank\">Weights & Biases</a> (<a href='https://wandb.me/developer-guide' target=\"_blank\">docs</a>)<br>Sweep page: <a href='https://wandb.ai/ma23c011-indian-institute-of-technology-madras/fashion-mnist-visualization/sweeps/mfnwfsvf' target=\"_blank\">https://wandb.ai/ma23c011-indian-institute-of-technology-madras/fashion-mnist-visualization/sweeps/mfnwfsvf</a>"
      ],
      "text/plain": [
       "<IPython.core.display.HTML object>"
      ]
     },
     "metadata": {},
     "output_type": "display_data"
    },
    {
     "data": {
      "text/html": [
       " View project at <a href='https://wandb.ai/ma23c011-indian-institute-of-technology-madras/fashion-mnist-visualization' target=\"_blank\">https://wandb.ai/ma23c011-indian-institute-of-technology-madras/fashion-mnist-visualization</a>"
      ],
      "text/plain": [
       "<IPython.core.display.HTML object>"
      ]
     },
     "metadata": {},
     "output_type": "display_data"
    },
    {
     "data": {
      "text/html": [
       " View sweep at <a href='https://wandb.ai/ma23c011-indian-institute-of-technology-madras/fashion-mnist-visualization/sweeps/mfnwfsvf' target=\"_blank\">https://wandb.ai/ma23c011-indian-institute-of-technology-madras/fashion-mnist-visualization/sweeps/mfnwfsvf</a>"
      ],
      "text/plain": [
       "<IPython.core.display.HTML object>"
      ]
     },
     "metadata": {},
     "output_type": "display_data"
    },
    {
     "data": {
      "text/html": [
       " View run at <a href='https://wandb.ai/ma23c011-indian-institute-of-technology-madras/fashion-mnist-visualization/runs/uh4s27d9' target=\"_blank\">https://wandb.ai/ma23c011-indian-institute-of-technology-madras/fashion-mnist-visualization/runs/uh4s27d9</a>"
      ],
      "text/plain": [
       "<IPython.core.display.HTML object>"
      ]
     },
     "metadata": {},
     "output_type": "display_data"
    },
    {
     "name": "stdout",
     "output_type": "stream",
     "text": [
      "Epoch: 0, Loss: 1.509e-01, Training accuracy:0.691, Validation Loss: 1.116e-01, Validation Accuracy: 0.696, Time: 113.437, Learning Rate: 1.000e-03\n",
      "Epoch: 1, Loss: 9.757e-02, Training accuracy:0.731, Validation Loss: 8.731e-02, Validation Accuracy: 0.735, Time: 133.348, Learning Rate: 1.000e-03\n"
     ]
    }
   ],
   "source": [
    "wandb.agent(sweep_id, train, count = 1)"
   ]
  },
  {
   "cell_type": "code",
   "execution_count": null,
   "metadata": {},
   "outputs": [],
   "source": []
  }
 ],
 "metadata": {
  "kernelspec": {
   "display_name": "Python 3",
   "language": "python",
   "name": "python3"
  },
  "language_info": {
   "codemirror_mode": {
    "name": "ipython",
    "version": 3
   },
   "file_extension": ".py",
   "mimetype": "text/x-python",
   "name": "python",
   "nbconvert_exporter": "python",
   "pygments_lexer": "ipython3",
   "version": "3.10.3"
  }
 },
 "nbformat": 4,
 "nbformat_minor": 2
}
